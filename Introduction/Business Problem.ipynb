{
    "nbformat_minor": 1, 
    "cells": [
        {
            "source": "<h2>Introduction/Business Problem</h2>", 
            "cell_type": "markdown", 
            "metadata": {}
        }, 
        {
            "source": "<h3>Introduction to the problem that this project is intending to solve.</h3>", 
            "cell_type": "markdown", 
            "metadata": {
                "collapsed": true
            }
        }, 
        {
            "source": "=> Suppose someone wants open a restaurant in India that specializes in Pizza.", 
            "cell_type": "markdown", 
            "metadata": {}
        }, 
        {
            "source": "The objective of the project will be to analyze different cities and the presence of already established Pizza stores, their location, their performance and the ratings recieved by customers. Based on these criterias, we will be trying to decide the best location for the new restaurant as to improve increased profit and easy accessibility for maximum number of customers.", 
            "cell_type": "markdown", 
            "metadata": {}
        }, 
        {
            "source": "", 
            "cell_type": "code", 
            "execution_count": null, 
            "outputs": [], 
            "metadata": {}
        }
    ], 
    "nbformat": 4, 
    "metadata": {
        "kernelspec": {
            "display_name": "Python 3.6", 
            "name": "python3", 
            "language": "python"
        }, 
        "language_info": {
            "mimetype": "text/x-python", 
            "nbconvert_exporter": "python", 
            "version": "3.6.8", 
            "name": "python", 
            "pygments_lexer": "ipython3", 
            "file_extension": ".py", 
            "codemirror_mode": {
                "version": 3, 
                "name": "ipython"
            }
        }
    }
}