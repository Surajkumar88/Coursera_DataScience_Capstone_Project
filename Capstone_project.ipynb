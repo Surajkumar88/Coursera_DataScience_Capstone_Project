{
    "cells": [
        {
            "cell_type": "markdown",
            "metadata": {
                "collapsed": true
            },
            "source": "<h1>Capstone Project - Battle of Neighborhoods (week 2)</h1>\n<h2>Applied Data Science Capstone</h2>"
        },
        {
            "cell_type": "markdown",
            "metadata": {},
            "source": "<h3>Introduction to Business Problem</h3>"
        },
        {
            "cell_type": "code",
            "execution_count": null,
            "metadata": {},
            "outputs": [],
            "source": ""
        },
        {
            "cell_type": "markdown",
            "metadata": {},
            "source": "<h3>Data</h3>"
        },
        {
            "cell_type": "code",
            "execution_count": null,
            "metadata": {},
            "outputs": [],
            "source": ""
        },
        {
            "cell_type": "markdown",
            "metadata": {},
            "source": "<h3>Getting the location</h3>"
        },
        {
            "cell_type": "code",
            "execution_count": 6,
            "metadata": {},
            "outputs": [],
            "source": "#Installing Required modules\n#!conda install -c anaconda geocoder -y\n#!pip install geocoder"
        },
        {
            "cell_type": "code",
            "execution_count": 7,
            "metadata": {},
            "outputs": [],
            "source": "#Importing required libraries\nimport numpy as npu\nimport pandas as pd\n\nfrom geopy.geocoders import Nominatim\nimport geocoder\n\nimport requests\nfrom bs4 import BeautifulSoup"
        },
        {
            "cell_type": "code",
            "execution_count": 5,
            "metadata": {},
            "outputs": [
                {
                    "name": "stdout",
                    "output_type": "stream",
                    "text": "[12.966870000000029, 77.58734000000004]\n"
                }
            ],
            "source": "g = geocoder.arcgis('Bangalore, India')\ngll = g.latlng\nprint(gll)"
        },
        {
            "cell_type": "markdown",
            "metadata": {},
            "source": "<h3>Getting the List of Neighborhoods in Bangalore from Wikipedia</h3>"
        },
        {
            "cell_type": "code",
            "execution_count": 8,
            "metadata": {},
            "outputs": [],
            "source": "neig = requests.get(\"https://commons.wikimedia.org/wiki/Category:Suburbs_of_Bangalore\").text"
        },
        {
            "cell_type": "code",
            "execution_count": 35,
            "metadata": {},
            "outputs": [],
            "source": "soup = BeautifulSoup(neig, 'html.parser')"
        },
        {
            "cell_type": "code",
            "execution_count": 79,
            "metadata": {},
            "outputs": [],
            "source": "#Creating a list to store neighborhood data\nneighborhoodlist = []"
        },
        {
            "cell_type": "code",
            "execution_count": 80,
            "metadata": {},
            "outputs": [
                {
                    "data": {
                        "text/html": "<div>\n<style scoped>\n    .dataframe tbody tr th:only-of-type {\n        vertical-align: middle;\n    }\n\n    .dataframe tbody tr th {\n        vertical-align: top;\n    }\n\n    .dataframe thead th {\n        text-align: right;\n    }\n</style>\n<table border=\"1\" class=\"dataframe\">\n  <thead>\n    <tr style=\"text-align: right;\">\n      <th></th>\n      <th>Localities</th>\n    </tr>\n  </thead>\n  <tbody>\n    <tr>\n      <th>0</th>\n      <td>Agara, Bangalore</td>\n    </tr>\n    <tr>\n      <th>1</th>\n      <td>Arekere</td>\n    </tr>\n    <tr>\n      <th>2</th>\n      <td>Banashankari</td>\n    </tr>\n    <tr>\n      <th>3</th>\n      <td>Banaswadi</td>\n    </tr>\n    <tr>\n      <th>4</th>\n      <td>Basavanagudi</td>\n    </tr>\n  </tbody>\n</table>\n</div>",
                        "text/plain": "         Localities\n0  Agara, Bangalore\n1           Arekere\n2      Banashankari\n3         Banaswadi\n4      Basavanagudi"
                    },
                    "execution_count": 80,
                    "metadata": {},
                    "output_type": "execute_result"
                }
            ],
            "source": "for i in soup.find_all('div', class_='mw-category')[0].find_all('a'):\n    neighborhoodlist.append(i.text)\n#Creating a dataframe from the list\nneig_df = pd.DataFrame({\"Localities\": neighborhoodlist})\nneig_df.head()"
        },
        {
            "cell_type": "code",
            "execution_count": 81,
            "metadata": {},
            "outputs": [
                {
                    "data": {
                        "text/plain": "(58, 1)"
                    },
                    "execution_count": 81,
                    "metadata": {},
                    "output_type": "execute_result"
                }
            ],
            "source": "neig_df.shape"
        },
        {
            "cell_type": "markdown",
            "metadata": {},
            "source": "<h3>Getting the location of the Localities</h3>"
        },
        {
            "cell_type": "code",
            "execution_count": 108,
            "metadata": {},
            "outputs": [],
            "source": "#Defining a function to get the location of the localities\ndef get_location(localities):\n    g = geocoder.arcgis('{}'.format(localities))\n    get_latlng = g.latlng\n    return get_latlng"
        },
        {
            "cell_type": "code",
            "execution_count": 124,
            "metadata": {},
            "outputs": [
                {
                    "name": "stdout",
                    "output_type": "stream",
                    "text": "[[12.842700000000036, 77.48882000000003], [12.885640000000024, 77.59669000000008], [12.922280000000057, 77.56986000000006], [13.015760000000057, 77.64871000000005], [12.939000000000021, 77.57135000000005], [12.882490000000075, 77.62475000000006], [12.927350000000047, 77.67184000000003], [23.37385000000006, 85.35071000000005], [12.966870000000029, 77.58734000000004], [12.798850000000073, 77.38980000000004], [12.817540000000065, 77.67879000000005], [12.966210117271197, 77.60678848215437], [12.793990000000065, 77.70018000000005], [13.250110000000063, 77.70788000000005], [26.873360000000048, 80.91627000000005], [12.943300000000022, 77.65603000000004], [12.845780000000047, 77.67274000000003], [12.998850000000061, 77.61271000000005], [23.633330000000058, 90.25000000000006], [13.02642000000003, 77.62432000000007], [13.049690000000055, 77.58951000000008], [13.077180000000055, 77.80178000000006], [12.912160000000029, 77.64490000000006], [12.995470000000068, 80.25227000000007], [12.923440000000028, 77.54283000000004], [27.214380000000062, 77.98912000000007], [13.075640000000021, 77.60392000000007], [12.928700000000049, 77.58279000000005], [12.966050000000052, 77.65765000000005], [12.746660000000077, 77.34048000000007], [12.966120000000046, 77.64978000000008], [12.88232000000005, 77.56923000000006], [12.92005000000006, 77.62543000000005], [14.973210000000051, 76.73464000000007], [12.920500000000061, 77.62090000000006], [12.956600000000037, 77.22731000000005], [12.99410000000006, 77.66635000000008], [12.977590000000077, 77.57256000000007], [16.978800000000035, 81.23653000000007], [12.954670000000021, 77.70752000000005], [13.03236000000004, 77.55865000000006], [12.955580000000054, 77.65334000000007], [12.980070000000069, 77.51133000000004], [13.005430000000047, 77.55682000000007], [12.931620000000066, 77.52699000000007], [13.013920000000041, 77.67583000000008], [13.06272000000007, 77.58548000000008], [6.11701000000005, 81.07157000000007], [25.89032000000003, 85.98343000000006], [12.953500000000076, 77.72113000000007], [12.97171000000003, 77.64781000000005], [12.972920000000045, 77.59546000000006], [12.989160000000027, 77.62798000000004], [12.943480000000022, 77.74703000000005], [12.975170000000048, 77.75227000000007], [13.099320000000034, 77.59260000000006], [13.213080000000048, 77.95311000000004], [15.376580000000047, 75.16345000000007]]\n"
                }
            ],
            "source": "co_ordinates = []\nfor i in neig_df[\"Localities\"].tolist():\n    co_ordinates.append(get_location(i))\nprint(co_ordinates)"
        },
        {
            "cell_type": "code",
            "execution_count": 125,
            "metadata": {},
            "outputs": [],
            "source": "#Creating a dataframe from the list of location\nco_ordinates_df = pd.DataFrame(co_ordinates, columns=['Latitudes', 'Longitudes'])"
        },
        {
            "cell_type": "code",
            "execution_count": null,
            "metadata": {},
            "outputs": [],
            "source": "neig_df[\"Latitudes\"] = co_ordinates_df[\"Latitudes\"]\nneig_df[\"Lon\"] = co_ordinates_df[\"Longitudes\"]"
        }
    ],
    "metadata": {
        "kernelspec": {
            "display_name": "Python 3.6",
            "language": "python",
            "name": "python3"
        },
        "language_info": {
            "codemirror_mode": {
                "name": "ipython",
                "version": 3
            },
            "file_extension": ".py",
            "mimetype": "text/x-python",
            "name": "python",
            "nbconvert_exporter": "python",
            "pygments_lexer": "ipython3",
            "version": "3.6.8"
        }
    },
    "nbformat": 4,
    "nbformat_minor": 1
}